{
  "nbformat": 4,
  "nbformat_minor": 0,
  "metadata": {
    "colab": {
      "name": "Machine Learning Project _ InternshipStudio.ipynb",
      "provenance": [],
      "authorship_tag": "ABX9TyP4CQbxt9OCFybE556a4xSC",
      "include_colab_link": true
    },
    "kernelspec": {
      "display_name": "Python 3",
      "name": "python3"
    },
    "language_info": {
      "name": "python"
    }
  },
  "cells": [
    {
      "cell_type": "markdown",
      "metadata": {
        "id": "view-in-github",
        "colab_type": "text"
      },
      "source": [
        "<a href=\"https://colab.research.google.com/github/sarumathi03/Youtube-adview-Prediction/blob/main/Machine_Learning_Project___InternshipStudio.ipynb\" target=\"_parent\"><img src=\"https://colab.research.google.com/assets/colab-badge.svg\" alt=\"Open In Colab\"/></a>"
      ]
    },
    {
      "cell_type": "markdown",
      "metadata": {
        "id": "oGHbjtB4uBRa"
      },
      "source": [
        "# **Youtube adview Prediction - Machine Learning Project**"
      ]
    },
    {
      "cell_type": "code",
      "metadata": {
        "colab": {
          "base_uri": "https://localhost:8080/"
        },
        "id": "88_ZbnxFLY6l",
        "outputId": "ddc62aae-ca24-4285-caf8-d961e76c0d1b"
      },
      "source": [
        "#Mount drive \n",
        "from google.colab import drive\n",
        "drive.mount('/content/drive')"
      ],
      "execution_count": null,
      "outputs": [
        {
          "output_type": "stream",
          "text": [
            "Mounted at /content/drive\n"
          ],
          "name": "stdout"
        }
      ]
    },
    {
      "cell_type": "markdown",
      "metadata": {
        "id": "ftaL7-SFu97l"
      },
      "source": [
        "Importing the datasets and libraries, check shape and datatype.\n"
      ]
    },
    {
      "cell_type": "code",
      "metadata": {
        "colab": {
          "base_uri": "https://localhost:8080/"
        },
        "id": "FF00AJOGLqU8",
        "outputId": "0ea0e54f-cccc-4a7a-cc78-1ce14382714a"
      },
      "source": [
        "#import libraries \n",
        "#numpy- to work with array\n",
        "#pandas - to work with datamanipulation and daatframe\n",
        "#matplotlib - to work with visualization of data\n",
        "import numpy as np\n",
        "import pandas as pd\n",
        "import matplotlib.cm as cm\n",
        "import matplotlib.pyplot as plt\n",
        "# Importing data\n",
        "#path = \"\" # Put path of your folder of your data if it's not in the same folder\n",
        "data_train = pd.read_csv(\"/content/drive/MyDrive/Machine learning Internship Dataset/train.csv\")\n",
        "data_train.head() #head()-prints first five rows of the datset\n",
        "data_train.shape #shape()-prints row and column count"
      ],
      "execution_count": null,
      "outputs": [
        {
          "output_type": "execute_result",
          "data": {
            "text/plain": [
              "(14999, 9)"
            ]
          },
          "metadata": {
            "tags": []
          },
          "execution_count": 143
        }
      ]
    },
    {
      "cell_type": "code",
      "metadata": {
        "colab": {
          "base_uri": "https://localhost:8080/"
        },
        "id": "exhyWcHVL1rh",
        "outputId": "0dacc1e8-26bc-4526-88cb-f4d5beda3a36"
      },
      "source": [
        "print(data_train) #printing the dataset to analyse the features"
      ],
      "execution_count": null,
      "outputs": [
        {
          "output_type": "stream",
          "text": [
            "           vidid  adview    views likes  ... comment   published duration category\n",
            "0      VID_18655      40  1031602  8523  ...    1095  2016-09-14  PT7M37S        F\n",
            "1      VID_14135       2     1707    56  ...       6  2016-10-01  PT9M30S        D\n",
            "2       VID_2187       1     2023    25  ...       2  2016-07-02  PT2M16S        C\n",
            "3      VID_23096       6   620860   777  ...     153  2016-07-27  PT4M22S        H\n",
            "4      VID_10175       1      666     1  ...       0  2016-06-29    PT31S        D\n",
            "...          ...     ...      ...   ...  ...     ...         ...      ...      ...\n",
            "14994     VID_31       2   525949  1137  ...      86  2015-05-18  PT6M10S        A\n",
            "14995   VID_5861       1   665673  3849  ...     569  2015-10-20  PT3M56S        D\n",
            "14996    VID_805       4     3479    16  ...       1  2013-08-23  PT3M13S        B\n",
            "14997  VID_19843       1      963     0  ...       0  2010-10-02    PT26S        G\n",
            "14998   VID_8534       1    15212    22  ...       4  2016-02-19   PT1M1S        D\n",
            "\n",
            "[14999 rows x 9 columns]\n"
          ],
          "name": "stdout"
        }
      ]
    },
    {
      "cell_type": "markdown",
      "metadata": {
        "id": "WhK1hrtxvQy_"
      },
      "source": [
        "Visualise the dataset using plotting using heatmaps and plots"
      ]
    },
    {
      "cell_type": "code",
      "metadata": {
        "colab": {
          "base_uri": "https://localhost:8080/",
          "height": 993
        },
        "id": "AtLXyDtoL30H",
        "outputId": "df7624fc-6785-4f84-d7f3-fe59bcfd6e75"
      },
      "source": [
        "# Visualization\n",
        "# Individual Plots\n",
        "plt.hist(data_train[\"category\"])\n",
        "plt.show()\n",
        "plt.plot(data_train[\"adview\"])\n",
        "plt.show()\n",
        "# Remove videos with adview greater than 2000000 as outlier\n",
        "data_train = data_train[data_train[\"adview\"] <2000000]\n",
        "# Heatmap\n",
        "import seaborn as sns\n",
        "f, ax = plt.subplots(figsize=(10, 8))\n",
        "corr = data_train.corr()\n",
        "sns.heatmap(corr, mask=np.zeros_like(corr, dtype=np.bool), cmap=sns.diverging_palette(220, 10, as_cmap=True),\n",
        "square=True, ax=ax,annot=True)\n",
        "plt.show()"
      ],
      "execution_count": null,
      "outputs": [
        {
          "output_type": "display_data",
          "data": {
            "image/png": "[encoded data removed]",
            "text/plain": [
              "<Figure size 432x288 with 1 Axes>"
            ]
          },
          "metadata": {
            "tags": [],
            "needs_background": "light"
          }
        },
        {
          "output_type": "display_data",
          "data": {
            "image/png": "[encoded data removed]",
            "text/plain": [
              "<Figure size 432x288 with 1 Axes>"
            ]
          },
          "metadata": {
            "tags": [],
            "needs_background": "light"
          }
        },
        {
          "output_type": "display_data",
          "data": {
            "image/png": "[encoded data removed]",
            "text/plain": [
              "<Figure size 720x576 with 2 Axes>"
            ]
          },
          "metadata": {
            "tags": [],
            "needs_background": "light"
          }
        }
      ]
    },
    {
      "cell_type": "markdown",
      "metadata": {
        "id": "Hjm4z7fVv1cm"
      },
      "source": [
        "Cleaning the dataset by removing missing values"
      ]
    },
    {
      "cell_type": "code",
      "metadata": {
        "colab": {
          "base_uri": "https://localhost:8080/",
          "height": 200
        },
        "id": "9GRprIxdMADm",
        "outputId": "2e8737df-445f-483a-cbbb-6c9ad41f3fbf"
      },
      "source": [
        "# Removing character \"F\" present in data\n",
        "#this is done to remove the missing characters in the dataset\n",
        "data_train=data_train[data_train.views!='F']\n",
        "data_train=data_train[data_train.likes!='F']\n",
        "data_train=data_train[data_train.dislikes!='F']\n",
        "data_train=data_train[data_train.comment!='F']\n",
        "data_train.head()\n",
        "# Assigning each category a number for Category feature i.e A to 1,B to 2 and so on...\n",
        "category={'A': 1,'B':2,'C':3,'D':4,'E':5,'F':6,'G':7,'H':8}\n",
        "data_train[\"category\"]=data_train[\"category\"].map(category)\n",
        "data_train.head()"
      ],
      "execution_count": null,
      "outputs": [
        {
          "output_type": "execute_result",
          "data": {
            "text/html": [
              "<div>\n",
              "<style scoped>\n",
              "    .dataframe tbody tr th:only-of-type {\n",
              "        vertical-align: middle;\n",
              "    }\n",
              "\n",
              "    .dataframe tbody tr th {\n",
              "        vertical-align: top;\n",
              "    }\n",
              "\n",
              "    .dataframe thead th {\n",
              "        text-align: right;\n",
              "    }\n",
              "</style>\n",
              "<table border=\"1\" class=\"dataframe\">\n",
              "  <thead>\n",
              "    <tr style=\"text-align: right;\">\n",
              "      <th></th>\n",
              "      <th>vidid</th>\n",
              "      <th>adview</th>\n",
              "      <th>views</th>\n",
              "      <th>likes</th>\n",
              "      <th>dislikes</th>\n",
              "      <th>comment</th>\n",
              "      <th>published</th>\n",
              "      <th>duration</th>\n",
              "      <th>category</th>\n",
              "    </tr>\n",
              "  </thead>\n",
              "  <tbody>\n",
              "    <tr>\n",
              "      <th>0</th>\n",
              "      <td>VID_18655</td>\n",
              "      <td>40</td>\n",
              "      <td>1031602</td>\n",
              "      <td>8523</td>\n",
              "      <td>363</td>\n",
              "      <td>1095</td>\n",
              "      <td>2016-09-14</td>\n",
              "      <td>PT7M37S</td>\n",
              "      <td>6</td>\n",
              "    </tr>\n",
              "    <tr>\n",
              "      <th>1</th>\n",
              "      <td>VID_14135</td>\n",
              "      <td>2</td>\n",
              "      <td>1707</td>\n",
              "      <td>56</td>\n",
              "      <td>2</td>\n",
              "      <td>6</td>\n",
              "      <td>2016-10-01</td>\n",
              "      <td>PT9M30S</td>\n",
              "      <td>4</td>\n",
              "    </tr>\n",
              "    <tr>\n",
              "      <th>2</th>\n",
              "      <td>VID_2187</td>\n",
              "      <td>1</td>\n",
              "      <td>2023</td>\n",
              "      <td>25</td>\n",
              "      <td>0</td>\n",
              "      <td>2</td>\n",
              "      <td>2016-07-02</td>\n",
              "      <td>PT2M16S</td>\n",
              "      <td>3</td>\n",
              "    </tr>\n",
              "    <tr>\n",
              "      <th>3</th>\n",
              "      <td>VID_23096</td>\n",
              "      <td>6</td>\n",
              "      <td>620860</td>\n",
              "      <td>777</td>\n",
              "      <td>161</td>\n",
              "      <td>153</td>\n",
              "      <td>2016-07-27</td>\n",
              "      <td>PT4M22S</td>\n",
              "      <td>8</td>\n",
              "    </tr>\n",
              "    <tr>\n",
              "      <th>4</th>\n",
              "      <td>VID_10175</td>\n",
              "      <td>1</td>\n",
              "      <td>666</td>\n",
              "      <td>1</td>\n",
              "      <td>0</td>\n",
              "      <td>0</td>\n",
              "      <td>2016-06-29</td>\n",
              "      <td>PT31S</td>\n",
              "      <td>4</td>\n",
              "    </tr>\n",
              "  </tbody>\n",
              "</table>\n",
              "</div>"
            ],
            "text/plain": [
              "       vidid  adview    views likes  ... comment   published duration category\n",
              "0  VID_18655      40  1031602  8523  ...    1095  2016-09-14  PT7M37S        6\n",
              "1  VID_14135       2     1707    56  ...       6  2016-10-01  PT9M30S        4\n",
              "2   VID_2187       1     2023    25  ...       2  2016-07-02  PT2M16S        3\n",
              "3  VID_23096       6   620860   777  ...     153  2016-07-27  PT4M22S        8\n",
              "4  VID_10175       1      666     1  ...       0  2016-06-29    PT31S        4\n",
              "\n",
              "[5 rows x 9 columns]"
            ]
          },
          "metadata": {
            "tags": []
          },
          "execution_count": 146
        }
      ]
    },
    {
      "cell_type": "markdown",
      "metadata": {
        "id": "h_BvOO7-wNkS"
      },
      "source": [
        " Transform attributes into numerical values and other necessary transformations"
      ]
    },
    {
      "cell_type": "code",
      "metadata": {
        "colab": {
          "base_uri": "https://localhost:8080/",
          "height": 200
        },
        "id": "n4Gw43J8MCQD",
        "outputId": "fe3cf3c9-b9a2-4fad-acef-5939519d3e99"
      },
      "source": [
        "#Convert values to integers for views, likes, comments, dislikes and adview\n",
        "data_train[\"views\"] = pd.to_numeric(data_train[\"views\"])\n",
        "data_train[\"comment\"] = pd.to_numeric(data_train[\"comment\"])\n",
        "data_train[\"likes\"] = pd.to_numeric(data_train[\"likes\"])\n",
        "data_train[\"dislikes\"] = pd.to_numeric(data_train[\"dislikes\"])\n",
        "data_train[\"adview\"]=pd.to_numeric(data_train[\"adview\"])\n",
        "column_vidid=data_train['vidid']\n",
        "# Endoding features like Category, Duration, Vidid\n",
        "from sklearn.preprocessing import LabelEncoder\n",
        "data_train['duration']=LabelEncoder().fit_transform(data_train['duration'])\n",
        "data_train['vidid']=LabelEncoder().fit_transform(data_train['vidid'])\n",
        "data_train['published']=LabelEncoder().fit_transform(data_train['published'])\n",
        "data_train.head()"
      ],
      "execution_count": null,
      "outputs": [
        {
          "output_type": "execute_result",
          "data": {
            "text/html": [
              "<div>\n",
              "<style scoped>\n",
              "    .dataframe tbody tr th:only-of-type {\n",
              "        vertical-align: middle;\n",
              "    }\n",
              "\n",
              "    .dataframe tbody tr th {\n",
              "        vertical-align: top;\n",
              "    }\n",
              "\n",
              "    .dataframe thead th {\n",
              "        text-align: right;\n",
              "    }\n",
              "</style>\n",
              "<table border=\"1\" class=\"dataframe\">\n",
              "  <thead>\n",
              "    <tr style=\"text-align: right;\">\n",
              "      <th></th>\n",
              "      <th>vidid</th>\n",
              "      <th>adview</th>\n",
              "      <th>views</th>\n",
              "      <th>likes</th>\n",
              "      <th>dislikes</th>\n",
              "      <th>comment</th>\n",
              "      <th>published</th>\n",
              "      <th>duration</th>\n",
              "      <th>category</th>\n",
              "    </tr>\n",
              "  </thead>\n",
              "  <tbody>\n",
              "    <tr>\n",
              "      <th>0</th>\n",
              "      <td>5912</td>\n",
              "      <td>40</td>\n",
              "      <td>1031602</td>\n",
              "      <td>8523</td>\n",
              "      <td>363</td>\n",
              "      <td>1095</td>\n",
              "      <td>2168</td>\n",
              "      <td>2925</td>\n",
              "      <td>6</td>\n",
              "    </tr>\n",
              "    <tr>\n",
              "      <th>1</th>\n",
              "      <td>2741</td>\n",
              "      <td>2</td>\n",
              "      <td>1707</td>\n",
              "      <td>56</td>\n",
              "      <td>2</td>\n",
              "      <td>6</td>\n",
              "      <td>2185</td>\n",
              "      <td>3040</td>\n",
              "      <td>4</td>\n",
              "    </tr>\n",
              "    <tr>\n",
              "      <th>2</th>\n",
              "      <td>8138</td>\n",
              "      <td>1</td>\n",
              "      <td>2023</td>\n",
              "      <td>25</td>\n",
              "      <td>0</td>\n",
              "      <td>2</td>\n",
              "      <td>2094</td>\n",
              "      <td>1863</td>\n",
              "      <td>3</td>\n",
              "    </tr>\n",
              "    <tr>\n",
              "      <th>3</th>\n",
              "      <td>9004</td>\n",
              "      <td>6</td>\n",
              "      <td>620860</td>\n",
              "      <td>777</td>\n",
              "      <td>161</td>\n",
              "      <td>153</td>\n",
              "      <td>2119</td>\n",
              "      <td>2546</td>\n",
              "      <td>8</td>\n",
              "    </tr>\n",
              "    <tr>\n",
              "      <th>4</th>\n",
              "      <td>122</td>\n",
              "      <td>1</td>\n",
              "      <td>666</td>\n",
              "      <td>1</td>\n",
              "      <td>0</td>\n",
              "      <td>0</td>\n",
              "      <td>2091</td>\n",
              "      <td>1963</td>\n",
              "      <td>4</td>\n",
              "    </tr>\n",
              "  </tbody>\n",
              "</table>\n",
              "</div>"
            ],
            "text/plain": [
              "   vidid  adview    views  likes  ...  comment  published  duration  category\n",
              "0   5912      40  1031602   8523  ...     1095       2168      2925         6\n",
              "1   2741       2     1707     56  ...        6       2185      3040         4\n",
              "2   8138       1     2023     25  ...        2       2094      1863         3\n",
              "3   9004       6   620860    777  ...      153       2119      2546         8\n",
              "4    122       1      666      1  ...        0       2091      1963         4\n",
              "\n",
              "[5 rows x 9 columns]"
            ]
          },
          "metadata": {
            "tags": []
          },
          "execution_count": 147
        }
      ]
    },
    {
      "cell_type": "code",
      "metadata": {
        "colab": {
          "base_uri": "https://localhost:8080/",
          "height": 200
        },
        "id": "wTlsQeLFMIFT",
        "outputId": "13643ee7-f680-402e-bead-fccd2368c90e"
      },
      "source": [
        "# Convert Time_in_sec for duration\n",
        "import datetime\n",
        "import time\n",
        "def checki(x):\n",
        "   y = x[2:]\n",
        "   h = ''\n",
        "   m = ''\n",
        "   s = ''\n",
        "   mm = ''\n",
        "   P = ['H','M','S']\n",
        "   for i in y:\n",
        "     if i not in P:\n",
        "       mm+=i\n",
        "     else:\n",
        "       if(i==\"H\"):\n",
        "         h = mm\n",
        "         mm = ''\n",
        "       elif(i == \"M\"):\n",
        "         m = mm\n",
        "         mm = ''\n",
        "       else:\n",
        "         s = mm\n",
        "         mm = ''\n",
        "   if(h==''):\n",
        "     h = '00'\n",
        "   if(m == ''):\n",
        "     m = '00'\n",
        "   if(s==''):\n",
        "     s='00'\n",
        "   bp = h+':'+m+':'+s\n",
        "   return bp\n",
        "train=pd.read_csv(\"/content/drive/MyDrive/Machine learning Internship Dataset/train.csv\")\n",
        "mp = pd.read_csv( \"/content/drive/MyDrive/Machine learning Internship Dataset/train.csv\")[\"duration\"]\n",
        "time = mp.apply(checki)\n",
        "def func_sec(time_string):\n",
        "   h, m, s = time_string.split(':')\n",
        "   return int(h) * 3600 + int(m) * 60 + int(s)\n",
        "time1=time.apply(func_sec)\n",
        "data_train[\"duration\"]=time1\n",
        "data_train.head()"
      ],
      "execution_count": null,
      "outputs": [
        {
          "output_type": "execute_result",
          "data": {
            "text/html": [
              "<div>\n",
              "<style scoped>\n",
              "    .dataframe tbody tr th:only-of-type {\n",
              "        vertical-align: middle;\n",
              "    }\n",
              "\n",
              "    .dataframe tbody tr th {\n",
              "        vertical-align: top;\n",
              "    }\n",
              "\n",
              "    .dataframe thead th {\n",
              "        text-align: right;\n",
              "    }\n",
              "</style>\n",
              "<table border=\"1\" class=\"dataframe\">\n",
              "  <thead>\n",
              "    <tr style=\"text-align: right;\">\n",
              "      <th></th>\n",
              "      <th>vidid</th>\n",
              "      <th>adview</th>\n",
              "      <th>views</th>\n",
              "      <th>likes</th>\n",
              "      <th>dislikes</th>\n",
              "      <th>comment</th>\n",
              "      <th>published</th>\n",
              "      <th>duration</th>\n",
              "      <th>category</th>\n",
              "    </tr>\n",
              "  </thead>\n",
              "  <tbody>\n",
              "    <tr>\n",
              "      <th>0</th>\n",
              "      <td>5912</td>\n",
              "      <td>40</td>\n",
              "      <td>1031602</td>\n",
              "      <td>8523</td>\n",
              "      <td>363</td>\n",
              "      <td>1095</td>\n",
              "      <td>2168</td>\n",
              "      <td>457</td>\n",
              "      <td>6</td>\n",
              "    </tr>\n",
              "    <tr>\n",
              "      <th>1</th>\n",
              "      <td>2741</td>\n",
              "      <td>2</td>\n",
              "      <td>1707</td>\n",
              "      <td>56</td>\n",
              "      <td>2</td>\n",
              "      <td>6</td>\n",
              "      <td>2185</td>\n",
              "      <td>570</td>\n",
              "      <td>4</td>\n",
              "    </tr>\n",
              "    <tr>\n",
              "      <th>2</th>\n",
              "      <td>8138</td>\n",
              "      <td>1</td>\n",
              "      <td>2023</td>\n",
              "      <td>25</td>\n",
              "      <td>0</td>\n",
              "      <td>2</td>\n",
              "      <td>2094</td>\n",
              "      <td>136</td>\n",
              "      <td>3</td>\n",
              "    </tr>\n",
              "    <tr>\n",
              "      <th>3</th>\n",
              "      <td>9004</td>\n",
              "      <td>6</td>\n",
              "      <td>620860</td>\n",
              "      <td>777</td>\n",
              "      <td>161</td>\n",
              "      <td>153</td>\n",
              "      <td>2119</td>\n",
              "      <td>262</td>\n",
              "      <td>8</td>\n",
              "    </tr>\n",
              "    <tr>\n",
              "      <th>4</th>\n",
              "      <td>122</td>\n",
              "      <td>1</td>\n",
              "      <td>666</td>\n",
              "      <td>1</td>\n",
              "      <td>0</td>\n",
              "      <td>0</td>\n",
              "      <td>2091</td>\n",
              "      <td>31</td>\n",
              "      <td>4</td>\n",
              "    </tr>\n",
              "  </tbody>\n",
              "</table>\n",
              "</div>"
            ],
            "text/plain": [
              "   vidid  adview    views  likes  ...  comment  published  duration  category\n",
              "0   5912      40  1031602   8523  ...     1095       2168       457         6\n",
              "1   2741       2     1707     56  ...        6       2185       570         4\n",
              "2   8138       1     2023     25  ...        2       2094       136         3\n",
              "3   9004       6   620860    777  ...      153       2119       262         8\n",
              "4    122       1      666      1  ...        0       2091        31         4\n",
              "\n",
              "[5 rows x 9 columns]"
            ]
          },
          "metadata": {
            "tags": []
          },
          "execution_count": 148
        }
      ]
    },
    {
      "cell_type": "markdown",
      "metadata": {
        "id": "PH_Kq4kA7WM2"
      },
      "source": [
        "Regplot Graph"
      ]
    },
    {
      "cell_type": "code",
      "metadata": {
        "colab": {
          "base_uri": "https://localhost:8080/",
          "height": 403
        },
        "id": "y0zPr8JSMeW-",
        "outputId": "bfeff54a-c19d-4baa-df38-71248609daaa"
      },
      "source": [
        "fig,ax = plt.subplots(figsize=(8,6))\n",
        "sns.regplot(x = 'likes', y='dislikes',data=data_train,ax=ax) #regplot for two parameters of the train dataset"
      ],
      "execution_count": null,
      "outputs": [
        {
          "output_type": "execute_result",
          "data": {
            "text/plain": [
              "<matplotlib.axes._subplots.AxesSubplot at 0x7f6a8774c9d0>"
            ]
          },
          "metadata": {
            "tags": []
          },
          "execution_count": 149
        },
        {
          "output_type": "display_data",
          "data": {
            "image/png": "[encoded data removed]",
            "text/plain": [
              "<Figure size 576x432 with 1 Axes>"
            ]
          },
          "metadata": {
            "tags": [],
            "needs_background": "light"
          }
        }
      ]
    },
    {
      "cell_type": "markdown",
      "metadata": {
        "id": "vApEucLK7_AO"
      },
      "source": [
        "Correlation Heatmap Graph"
      ]
    },
    {
      "cell_type": "code",
      "metadata": {
        "colab": {
          "base_uri": "https://localhost:8080/",
          "height": 502
        },
        "id": "LMYNxybyMlpX",
        "outputId": "9a4ab568-113c-401e-aa54-a9cb8be36901"
      },
      "source": [
        "# prints data that will be plotted \n",
        "# columns shown here are selected by corr() since they are ideal for the plot \n",
        "print(data_train.corr()) \n",
        "  \n",
        "# plotting correlation heatmap \n",
        "dataplot = sns.heatmap(data_train.corr(), cmap=\"plasma\", annot=True) \n",
        "  \n",
        "# displaying heatmap \n",
        "plt.show() "
      ],
      "execution_count": null,
      "outputs": [
        {
          "output_type": "stream",
          "text": [
            "              vidid    adview     views  ...  published  duration  category\n",
            "vidid      1.000000 -0.031081 -0.047582  ...  -0.144474  0.006912 -0.038894\n",
            "adview    -0.031081  1.000000  0.031177  ...   0.055657 -0.019592 -0.004910\n",
            "views     -0.047582  0.031177  1.000000  ...   0.020110  0.002563  0.032822\n",
            "likes     -0.128861  0.046541  0.726599  ...   0.096941 -0.042518 -0.009175\n",
            "dislikes  -0.076461  0.016686  0.730216  ...   0.043745  0.001587  0.011355\n",
            "comment   -0.081060  0.017631  0.410597  ...   0.114253 -0.037478 -0.034107\n",
            "published -0.144474  0.055657  0.020110  ...   1.000000  0.011976 -0.056814\n",
            "duration   0.006912 -0.019592  0.002563  ...   0.011976  1.000000  0.049235\n",
            "category  -0.038894 -0.004910  0.032822  ...  -0.056814  0.049235  1.000000\n",
            "\n",
            "[9 rows x 9 columns]\n"
          ],
          "name": "stdout"
        },
        {
          "output_type": "display_data",
          "data": {
            "image/png": "[encoded data removed]",
            "text/plain": [
              "<Figure size 432x288 with 2 Axes>"
            ]
          },
          "metadata": {
            "tags": [],
            "needs_background": "light"
          }
        }
      ]
    },
    {
      "cell_type": "markdown",
      "metadata": {
        "id": "NJLUWRsI8GAN"
      },
      "source": [
        "Scatterplot Graph"
      ]
    },
    {
      "cell_type": "code",
      "metadata": {
        "colab": {
          "base_uri": "https://localhost:8080/",
          "height": 306
        },
        "id": "HI24n1u-Mqws",
        "outputId": "7f64b4a3-8578-4dbf-e2e2-99689185028c"
      },
      "source": [
        "# The first way we can plot things is using the .plot extension from Pandas dataframes\n",
        "# We'll use this to make a scatterplot of the features present in  the traning dataset.\n",
        "data_train.plot(kind=\"scatter\", x=\"vidid\", y=\"views\")"
      ],
      "execution_count": null,
      "outputs": [
        {
          "output_type": "execute_result",
          "data": {
            "text/plain": [
              "<matplotlib.axes._subplots.AxesSubplot at 0x7f6a877d6790>"
            ]
          },
          "metadata": {
            "tags": []
          },
          "execution_count": 151
        },
        {
          "output_type": "display_data",
          "data": {
            "image/png": "[encoded data removed]",
            "text/plain": [
              "<Figure size 432x288 with 1 Axes>"
            ]
          },
          "metadata": {
            "tags": [],
            "needs_background": "light"
          }
        }
      ]
    },
    {
      "cell_type": "markdown",
      "metadata": {
        "id": "D-nyCKFy8M1U"
      },
      "source": [
        "Joint plot Graph"
      ]
    },
    {
      "cell_type": "code",
      "metadata": {
        "colab": {
          "base_uri": "https://localhost:8080/",
          "height": 385
        },
        "id": "NCNiJkH8MulM",
        "outputId": "5c5c184a-e470-481e-fff5-085f2656cedc"
      },
      "source": [
        "# We can also use the seaborn library to make a similar plot\n",
        "# A seaborn jointplot shows bivariate scatterplots and univariate histograms in the same figure\n",
        "sns.jointplot(x=\"vidid\", y=\"likes\", data=data_train,height=5)"
      ],
      "execution_count": null,
      "outputs": [
        {
          "output_type": "execute_result",
          "data": {
            "text/plain": [
              "<seaborn.axisgrid.JointGrid at 0x7f6a84f98f90>"
            ]
          },
          "metadata": {
            "tags": []
          },
          "execution_count": 152
        },
        {
          "output_type": "display_data",
          "data": {
            "image/png": "[encoded data removed]",
            "text/plain": [
              "<Figure size 360x360 with 3 Axes>"
            ]
          },
          "metadata": {
            "tags": [],
            "needs_background": "light"
          }
        }
      ]
    },
    {
      "cell_type": "markdown",
      "metadata": {
        "id": "NHBgiFfcfA7b"
      },
      "source": [
        "Normalise and splitting the data into training, validation and test set in the appropriate ratio."
      ]
    },
    {
      "cell_type": "code",
      "metadata": {
        "colab": {
          "base_uri": "https://localhost:8080/"
        },
        "id": "U9pRFYLnM0fQ",
        "outputId": "a87d82b1-3126-4855-ce0e-7542cb630263"
      },
      "source": [
        "# Split Data and drop specific columns \n",
        "Y_train = pd.DataFrame(data = data_train.iloc[:, 1].values, columns = ['target'])\n",
        "data_train=data_train.drop([\"adview\"],axis=1)\n",
        "data_train.head()\n",
        "#splitting the dataset into train and test \n",
        "from sklearn.model_selection import train_test_split\n",
        "X_train, X_test, y_train, y_test = train_test_split(data_train, Y_train, test_size=0.2, random_state=42)\n",
        "X_train.shape\n",
        "# Normalise Data\n",
        "from sklearn.preprocessing import MinMaxScaler\n",
        "scaler = MinMaxScaler()\n",
        "#The MinMaxScaler transforms the features by scaling them to a given range\n",
        "X_train=scaler.fit_transform(X_train)\n",
        "X_test=scaler.fit_transform(X_test)\n",
        "X_train.mean()"
      ],
      "execution_count": null,
      "outputs": [
        {
          "output_type": "execute_result",
          "data": {
            "text/plain": [
              "0.21445701548059948"
            ]
          },
          "metadata": {
            "tags": []
          },
          "execution_count": 153
        }
      ]
    },
    {
      "cell_type": "code",
      "metadata": {
        "colab": {
          "base_uri": "https://localhost:8080/"
        },
        "id": "SCqnJ5JCM28A",
        "outputId": "410d452d-ea9a-4498-dc97-931096d182ca"
      },
      "source": [
        "data_train\n",
        "data_train.shape #printing the shape after preprocessing the data"
      ],
      "execution_count": null,
      "outputs": [
        {
          "output_type": "execute_result",
          "data": {
            "text/plain": [
              "(14636, 8)"
            ]
          },
          "metadata": {
            "tags": []
          },
          "execution_count": 154
        }
      ]
    },
    {
      "cell_type": "markdown",
      "metadata": {
        "id": "pYfLSCfD5Jkq"
      },
      "source": [
        "Evaluation Metrics"
      ]
    },
    {
      "cell_type": "code",
      "metadata": {
        "id": "qhWk6q-JM8hn"
      },
      "source": [
        "from sklearn import metrics\n",
        "#defining a function to print mean absolute error,mean squared error and root mean squared error\n",
        "def print_error(X_test, y_test, model_name):\n",
        " prediction = model_name.predict(X_test)\n",
        " print('Mean Absolute Error:', metrics.mean_absolute_error(y_test, prediction))\n",
        " print('Mean Squared Error:', metrics.mean_squared_error(y_test, prediction))\n",
        " print('Root Mean Squared Error:', np.sqrt(metrics.mean_squared_error(y_test, prediction)))"
      ],
      "execution_count": null,
      "outputs": []
    },
    {
      "cell_type": "markdown",
      "metadata": {
        "id": "TXGslp7J5VNe"
      },
      "source": [
        "i) Linear Regression"
      ]
    },
    {
      "cell_type": "code",
      "metadata": {
        "colab": {
          "base_uri": "https://localhost:8080/"
        },
        "id": "HwwiGEs1NBEz",
        "outputId": "eb25398a-b1b2-40c3-f040-fd30cd01a6da"
      },
      "source": [
        "# Linear Regression\n",
        "from sklearn import linear_model\n",
        "linear_regression = linear_model.LinearRegression()\n",
        "linear_regression.fit(X_train, y_train)\n",
        "print_error(X_test,y_test, linear_regression)"
      ],
      "execution_count": null,
      "outputs": [
        {
          "output_type": "stream",
          "text": [
            "Mean Absolute Error: 3727.4793234398294\n",
            "Mean Squared Error: 834848577.7931217\n",
            "Root Mean Squared Error: 28893.74634402956\n"
          ],
          "name": "stdout"
        }
      ]
    },
    {
      "cell_type": "markdown",
      "metadata": {
        "id": "Gy-nNVa05c_v"
      },
      "source": [
        "ii) Support Vector Regressor"
      ]
    },
    {
      "cell_type": "code",
      "metadata": {
        "colab": {
          "base_uri": "https://localhost:8080/"
        },
        "id": "hT8A1yN7N7RI",
        "outputId": "e52ca79c-e551-4d78-f758-51961014e336"
      },
      "source": [
        "# Support Vector Regressor\n",
        "from sklearn.svm import SVR\n",
        "supportvector_regressor = SVR()\n",
        "supportvector_regressor.fit(X_train,y_train)\n",
        "print_error(X_test,y_test,supportvector_regressor)"
      ],
      "execution_count": null,
      "outputs": [
        {
          "output_type": "stream",
          "text": [
            "/usr/local/lib/python3.7/dist-packages/sklearn/utils/validation.py:760: DataConversionWarning: A column-vector y was passed when a 1d array was expected. Please change the shape of y to (n_samples, ), for example using ravel().\n",
            "  y = column_or_1d(y, warn=True)\n"
          ],
          "name": "stderr"
        },
        {
          "output_type": "stream",
          "text": [
            "Mean Absolute Error: 1696.939651284359\n",
            "Mean Squared Error: 833685622.805953\n",
            "Root Mean Squared Error: 28873.61464738963\n"
          ],
          "name": "stdout"
        }
      ]
    },
    {
      "cell_type": "markdown",
      "metadata": {
        "id": "CRwifMqr5itO"
      },
      "source": [
        "iii) Decision Tree Regressor"
      ]
    },
    {
      "cell_type": "code",
      "metadata": {
        "colab": {
          "base_uri": "https://localhost:8080/"
        },
        "id": "18iImlqWODVM",
        "outputId": "cc80753f-e232-41c6-b399-6ede1099186b"
      },
      "source": [
        "# Decision Tree Regressor\n",
        "from sklearn.tree import DecisionTreeRegressor\n",
        "decision_tree = DecisionTreeRegressor()\n",
        "decision_tree.fit(X_train, y_train)\n",
        "print_error(X_test,y_test, decision_tree)"
      ],
      "execution_count": null,
      "outputs": [
        {
          "output_type": "stream",
          "text": [
            "Mean Absolute Error: 2419.7329234972676\n",
            "Mean Squared Error: 729649791.3709016\n",
            "Root Mean Squared Error: 27012.030493298753\n"
          ],
          "name": "stdout"
        }
      ]
    },
    {
      "cell_type": "markdown",
      "metadata": {
        "id": "xHnwrzUW5nYS"
      },
      "source": [
        "iv) Random Forest Regressor"
      ]
    },
    {
      "cell_type": "code",
      "metadata": {
        "colab": {
          "base_uri": "https://localhost:8080/"
        },
        "id": "O8HFkp5oOKMF",
        "outputId": "840d3793-027f-41c8-c570-f2a845ffdc60"
      },
      "source": [
        "# Random Forest Regressor\n",
        "from sklearn.ensemble import RandomForestRegressor\n",
        "n_estimators = 200\n",
        "max_depth = 25\n",
        "min_samples_split=15\n",
        "min_samples_leaf=2\n",
        "random_forest = RandomForestRegressor(n_estimators = n_estimators, max_depth = max_depth, min_samples_split=min_samples_split)\n",
        "random_forest.fit(X_train,y_train)\n",
        "print_error(X_test,y_test, random_forest)"
      ],
      "execution_count": null,
      "outputs": [
        {
          "output_type": "stream",
          "text": [
            "/usr/local/lib/python3.7/dist-packages/ipykernel_launcher.py:8: DataConversionWarning: A column-vector y was passed when a 1d array was expected. Please change the shape of y to (n_samples,), for example using ravel().\n",
            "  \n"
          ],
          "name": "stderr"
        },
        {
          "output_type": "stream",
          "text": [
            "Mean Absolute Error: 3353.9402517596573\n",
            "Mean Squared Error: 617257701.7332665\n",
            "Root Mean Squared Error: 24844.67149578087\n"
          ],
          "name": "stdout"
        }
      ]
    },
    {
      "cell_type": "markdown",
      "metadata": {
        "id": "Mj2Nvf-j54SZ"
      },
      "source": [
        "Build an artificial neural network and train it with different layers and\n",
        "hyperparameters using keras.\n"
      ]
    },
    {
      "cell_type": "code",
      "metadata": {
        "id": "jXRdQDLqOmRz"
      },
      "source": [
        "# Artificial Neural Network\n",
        "import keras\n",
        "from keras.layers import Dense\n",
        "ann = keras.models.Sequential([\n",
        "Dense(6, activation=\"relu\",\n",
        "input_shape=X_train.shape[1:]),\n",
        "Dense(6,activation=\"relu\"),\n",
        "Dense(1)\n",
        "])\n",
        "optimizer=keras.optimizers.Adam()\n",
        "loss=keras.losses.mean_squared_error\n",
        "ann.compile(optimizer=optimizer,loss=loss,metrics=[\"mean_squared_error\"])"
      ],
      "execution_count": null,
      "outputs": []
    },
    {
      "cell_type": "code",
      "metadata": {
        "colab": {
          "base_uri": "https://localhost:8080/"
        },
        "id": "3mPwG9dtOqz7",
        "outputId": "3597c99a-b368-432e-e0b9-acf6cb495782"
      },
      "source": [
        "history=ann.fit(X_train,y_train,epochs=100)\n",
        "ann.summary()\n",
        "print_error(X_test,y_test,ann)"
      ],
      "execution_count": null,
      "outputs": [
        {
          "output_type": "stream",
          "text": [
            "Epoch 1/100\n",
            "366/366 [==============================] - 1s 1ms/step - loss: 950386364.3305 - mean_squared_error: 950386364.3305\n",
            "Epoch 2/100\n",
            "366/366 [==============================] - 1s 1ms/step - loss: 774270271.5756 - mean_squared_error: 774270271.5756\n",
            "Epoch 3/100\n",
            "366/366 [==============================] - 0s 1ms/step - loss: 397744816.8170 - mean_squared_error: 397744816.8170\n",
            "Epoch 4/100\n",
            "366/366 [==============================] - 1s 1ms/step - loss: 692287103.0808 - mean_squared_error: 692287103.0808\n",
            "Epoch 5/100\n",
            "366/366 [==============================] - 1s 1ms/step - loss: 888636599.9346 - mean_squared_error: 888636599.9346\n",
            "Epoch 6/100\n",
            "366/366 [==============================] - 1s 1ms/step - loss: 972330310.9366 - mean_squared_error: 972330310.9366\n",
            "Epoch 7/100\n",
            "366/366 [==============================] - 0s 1ms/step - loss: 596005179.1880 - mean_squared_error: 596005179.1880\n",
            "Epoch 8/100\n",
            "366/366 [==============================] - 1s 1ms/step - loss: 338612487.7711 - mean_squared_error: 338612487.7711\n",
            "Epoch 9/100\n",
            "366/366 [==============================] - 1s 1ms/step - loss: 980732300.9964 - mean_squared_error: 980732300.9964\n",
            "Epoch 10/100\n",
            "366/366 [==============================] - 1s 1ms/step - loss: 984159485.4998 - mean_squared_error: 984159485.4998\n",
            "Epoch 11/100\n",
            "366/366 [==============================] - 1s 1ms/step - loss: 1001244937.5375 - mean_squared_error: 1001244937.5375\n",
            "Epoch 12/100\n",
            "366/366 [==============================] - 1s 1ms/step - loss: 838224302.1471 - mean_squared_error: 838224302.1471\n",
            "Epoch 13/100\n",
            "366/366 [==============================] - 1s 1ms/step - loss: 730164455.0037 - mean_squared_error: 730164455.0037\n",
            "Epoch 14/100\n",
            "366/366 [==============================] - 1s 1ms/step - loss: 498777745.6033 - mean_squared_error: 498777745.6033\n",
            "Epoch 15/100\n",
            "366/366 [==============================] - 1s 1ms/step - loss: 848244243.4714 - mean_squared_error: 848244243.4714\n",
            "Epoch 16/100\n",
            "366/366 [==============================] - 0s 1ms/step - loss: 1453696054.8447 - mean_squared_error: 1453696054.8447\n",
            "Epoch 17/100\n",
            "366/366 [==============================] - 1s 1ms/step - loss: 659591973.5831 - mean_squared_error: 659591973.5831\n",
            "Epoch 18/100\n",
            "366/366 [==============================] - 1s 1ms/step - loss: 645512753.1022 - mean_squared_error: 645512753.1022\n",
            "Epoch 19/100\n",
            "366/366 [==============================] - 1s 1ms/step - loss: 729071539.1978 - mean_squared_error: 729071539.1978\n",
            "Epoch 20/100\n",
            "366/366 [==============================] - 1s 1ms/step - loss: 711926234.8321 - mean_squared_error: 711926234.8321\n",
            "Epoch 21/100\n",
            "366/366 [==============================] - 1s 1ms/step - loss: 1069146729.7544 - mean_squared_error: 1069146729.7544\n",
            "Epoch 22/100\n",
            "366/366 [==============================] - 1s 1ms/step - loss: 601028271.6087 - mean_squared_error: 601028271.6087\n",
            "Epoch 23/100\n",
            "366/366 [==============================] - 0s 1ms/step - loss: 517304285.3106 - mean_squared_error: 517304285.3106\n",
            "Epoch 24/100\n",
            "366/366 [==============================] - 1s 2ms/step - loss: 781027653.9149 - mean_squared_error: 781027653.9149\n",
            "Epoch 25/100\n",
            "366/366 [==============================] - 1s 1ms/step - loss: 795358814.0560 - mean_squared_error: 795358814.0560\n",
            "Epoch 26/100\n",
            "366/366 [==============================] - 1s 2ms/step - loss: 653759426.7210 - mean_squared_error: 653759426.7210\n",
            "Epoch 27/100\n",
            "366/366 [==============================] - 1s 2ms/step - loss: 807947968.3518 - mean_squared_error: 807947968.3518\n",
            "Epoch 28/100\n",
            "366/366 [==============================] - 1s 1ms/step - loss: 712325628.9152 - mean_squared_error: 712325628.9152\n",
            "Epoch 29/100\n",
            "366/366 [==============================] - 1s 1ms/step - loss: 954245526.6448 - mean_squared_error: 954245526.6448\n",
            "Epoch 30/100\n",
            "366/366 [==============================] - 1s 1ms/step - loss: 687288293.1499 - mean_squared_error: 687288293.1499\n",
            "Epoch 31/100\n",
            "366/366 [==============================] - 1s 1ms/step - loss: 601776669.5879 - mean_squared_error: 601776669.5879\n",
            "Epoch 32/100\n",
            "366/366 [==============================] - 0s 1ms/step - loss: 615522118.9275 - mean_squared_error: 615522118.9275\n",
            "Epoch 33/100\n",
            "366/366 [==============================] - 1s 2ms/step - loss: 461125255.0627 - mean_squared_error: 461125255.0627\n",
            "Epoch 34/100\n",
            "366/366 [==============================] - 1s 1ms/step - loss: 773183291.7984 - mean_squared_error: 773183291.7984\n",
            "Epoch 35/100\n",
            "366/366 [==============================] - 1s 2ms/step - loss: 586609761.5259 - mean_squared_error: 586609761.5259\n",
            "Epoch 36/100\n",
            "366/366 [==============================] - 1s 1ms/step - loss: 571360152.3392 - mean_squared_error: 571360152.3392\n",
            "Epoch 37/100\n",
            "366/366 [==============================] - 1s 1ms/step - loss: 341175250.3467 - mean_squared_error: 341175250.3467\n",
            "Epoch 38/100\n",
            "366/366 [==============================] - 1s 2ms/step - loss: 482270113.3696 - mean_squared_error: 482270113.3696\n",
            "Epoch 39/100\n",
            "366/366 [==============================] - 1s 1ms/step - loss: 1373376140.4482 - mean_squared_error: 1373376140.4482\n",
            "Epoch 40/100\n",
            "366/366 [==============================] - 1s 1ms/step - loss: 360782999.7766 - mean_squared_error: 360782999.7766\n",
            "Epoch 41/100\n",
            "366/366 [==============================] - 1s 1ms/step - loss: 429800188.1022 - mean_squared_error: 429800188.1022\n",
            "Epoch 42/100\n",
            "366/366 [==============================] - 1s 2ms/step - loss: 1118729102.7398 - mean_squared_error: 1118729102.7398\n",
            "Epoch 43/100\n",
            "366/366 [==============================] - 1s 1ms/step - loss: 710417813.9728 - mean_squared_error: 710417813.9728\n",
            "Epoch 44/100\n",
            "366/366 [==============================] - 1s 1ms/step - loss: 891258192.6138 - mean_squared_error: 891258192.6138\n",
            "Epoch 45/100\n",
            "366/366 [==============================] - 1s 1ms/step - loss: 726798175.1458 - mean_squared_error: 726798175.1458\n",
            "Epoch 46/100\n",
            "366/366 [==============================] - 1s 1ms/step - loss: 1256712162.5307 - mean_squared_error: 1256712162.5307\n",
            "Epoch 47/100\n",
            "366/366 [==============================] - 1s 1ms/step - loss: 791272710.7139 - mean_squared_error: 791272710.7139\n",
            "Epoch 48/100\n",
            "366/366 [==============================] - 1s 1ms/step - loss: 636034215.6635 - mean_squared_error: 636034215.6635\n",
            "Epoch 49/100\n",
            "366/366 [==============================] - 1s 1ms/step - loss: 697375563.7125 - mean_squared_error: 697375563.7125\n",
            "Epoch 50/100\n",
            "366/366 [==============================] - 1s 1ms/step - loss: 295904881.3924 - mean_squared_error: 295904881.3924\n",
            "Epoch 51/100\n",
            "366/366 [==============================] - 1s 1ms/step - loss: 1414254670.4877 - mean_squared_error: 1414254670.4877\n",
            "Epoch 52/100\n",
            "366/366 [==============================] - 1s 1ms/step - loss: 1241250387.7473 - mean_squared_error: 1241250387.7473\n",
            "Epoch 53/100\n",
            "366/366 [==============================] - 1s 1ms/step - loss: 796635832.0613 - mean_squared_error: 796635832.0613\n",
            "Epoch 54/100\n",
            "366/366 [==============================] - 1s 2ms/step - loss: 716651013.2752 - mean_squared_error: 716651013.2752\n",
            "Epoch 55/100\n",
            "366/366 [==============================] - 1s 1ms/step - loss: 471494823.0068 - mean_squared_error: 471494823.0068\n",
            "Epoch 56/100\n",
            "366/366 [==============================] - 1s 1ms/step - loss: 1017971230.5259 - mean_squared_error: 1017971230.5259\n",
            "Epoch 57/100\n",
            "366/366 [==============================] - 1s 1ms/step - loss: 685106078.2997 - mean_squared_error: 685106078.2997\n",
            "Epoch 58/100\n",
            "366/366 [==============================] - 1s 1ms/step - loss: 809003497.8460 - mean_squared_error: 809003497.8460\n",
            "Epoch 59/100\n",
            "366/366 [==============================] - 0s 1ms/step - loss: 701076830.7268 - mean_squared_error: 701076830.7268\n",
            "Epoch 60/100\n",
            "366/366 [==============================] - 1s 1ms/step - loss: 556987513.1689 - mean_squared_error: 556987513.1689\n",
            "Epoch 61/100\n",
            "366/366 [==============================] - 1s 2ms/step - loss: 424195508.5647 - mean_squared_error: 424195508.5647\n",
            "Epoch 62/100\n",
            "366/366 [==============================] - 1s 1ms/step - loss: 363837871.4346 - mean_squared_error: 363837871.4346\n",
            "Epoch 63/100\n",
            "366/366 [==============================] - 1s 1ms/step - loss: 684481073.7527 - mean_squared_error: 684481073.7527\n",
            "Epoch 64/100\n",
            "366/366 [==============================] - 1s 1ms/step - loss: 671890448.2684 - mean_squared_error: 671890448.2684\n",
            "Epoch 65/100\n",
            "366/366 [==============================] - 1s 1ms/step - loss: 877664954.1757 - mean_squared_error: 877664954.1757\n",
            "Epoch 66/100\n",
            "366/366 [==============================] - 0s 1ms/step - loss: 534267085.6975 - mean_squared_error: 534267085.6975\n",
            "Epoch 67/100\n",
            "366/366 [==============================] - 1s 1ms/step - loss: 1004073775.2193 - mean_squared_error: 1004073775.2193\n",
            "Epoch 68/100\n",
            "366/366 [==============================] - 1s 1ms/step - loss: 785209622.0300 - mean_squared_error: 785209622.0300\n",
            "Epoch 69/100\n",
            "366/366 [==============================] - 1s 1ms/step - loss: 435443138.7452 - mean_squared_error: 435443138.7452\n",
            "Epoch 70/100\n",
            "366/366 [==============================] - 1s 1ms/step - loss: 1113954297.9537 - mean_squared_error: 1113954297.9537\n",
            "Epoch 71/100\n",
            "366/366 [==============================] - 1s 1ms/step - loss: 532158624.8072 - mean_squared_error: 532158624.8072\n",
            "Epoch 72/100\n",
            "366/366 [==============================] - 1s 1ms/step - loss: 1014842262.3379 - mean_squared_error: 1014842262.3379\n",
            "Epoch 73/100\n",
            "366/366 [==============================] - 1s 2ms/step - loss: 509658481.5041 - mean_squared_error: 509658481.5041\n",
            "Epoch 74/100\n",
            "366/366 [==============================] - 1s 1ms/step - loss: 716530453.1717 - mean_squared_error: 716530453.1717\n",
            "Epoch 75/100\n",
            "366/366 [==============================] - 1s 1ms/step - loss: 349249652.4441 - mean_squared_error: 349249652.4441\n",
            "Epoch 76/100\n",
            "366/366 [==============================] - 1s 1ms/step - loss: 418095850.2262 - mean_squared_error: 418095850.2262\n",
            "Epoch 77/100\n",
            "366/366 [==============================] - 1s 1ms/step - loss: 399135250.4659 - mean_squared_error: 399135250.4659\n",
            "Epoch 78/100\n",
            "366/366 [==============================] - 1s 1ms/step - loss: 292297972.5749 - mean_squared_error: 292297972.5749\n",
            "Epoch 79/100\n",
            "366/366 [==============================] - 1s 1ms/step - loss: 398940225.7752 - mean_squared_error: 398940225.7752\n",
            "Epoch 80/100\n",
            "366/366 [==============================] - 1s 1ms/step - loss: 466777682.7888 - mean_squared_error: 466777682.7888\n",
            "Epoch 81/100\n",
            "366/366 [==============================] - 1s 2ms/step - loss: 379058343.1880 - mean_squared_error: 379058343.1880\n",
            "Epoch 82/100\n",
            "366/366 [==============================] - 1s 1ms/step - loss: 844982044.5858 - mean_squared_error: 844982044.5858\n",
            "Epoch 83/100\n",
            "366/366 [==============================] - 1s 1ms/step - loss: 733946409.1322 - mean_squared_error: 733946409.1322\n",
            "Epoch 84/100\n",
            "366/366 [==============================] - 1s 1ms/step - loss: 708479882.5450 - mean_squared_error: 708479882.5450\n",
            "Epoch 85/100\n",
            "366/366 [==============================] - 1s 2ms/step - loss: 780254310.1676 - mean_squared_error: 780254310.1676\n",
            "Epoch 86/100\n",
            "366/366 [==============================] - 1s 1ms/step - loss: 870848817.2548 - mean_squared_error: 870848817.2548\n",
            "Epoch 87/100\n",
            "366/366 [==============================] - 1s 1ms/step - loss: 1315411360.6213 - mean_squared_error: 1315411360.6213\n",
            "Epoch 88/100\n",
            "366/366 [==============================] - 1s 1ms/step - loss: 956474643.3195 - mean_squared_error: 956474643.3195\n",
            "Epoch 89/100\n",
            "366/366 [==============================] - 1s 1ms/step - loss: 901704391.1914 - mean_squared_error: 901704391.1914\n",
            "Epoch 90/100\n",
            "366/366 [==============================] - 1s 2ms/step - loss: 752093833.7984 - mean_squared_error: 752093833.7984\n",
            "Epoch 91/100\n",
            "366/366 [==============================] - 1s 1ms/step - loss: 373819148.0082 - mean_squared_error: 373819148.0082\n",
            "Epoch 92/100\n",
            "366/366 [==============================] - 1s 1ms/step - loss: 1026067217.9966 - mean_squared_error: 1026067217.9966\n",
            "Epoch 93/100\n",
            "366/366 [==============================] - 1s 1ms/step - loss: 449795809.7807 - mean_squared_error: 449795809.7807\n",
            "Epoch 94/100\n",
            "366/366 [==============================] - 1s 1ms/step - loss: 1099797328.9741 - mean_squared_error: 1099797328.9741\n",
            "Epoch 95/100\n",
            "366/366 [==============================] - 1s 1ms/step - loss: 604221779.9864 - mean_squared_error: 604221779.9864\n",
            "Epoch 96/100\n",
            "366/366 [==============================] - 1s 1ms/step - loss: 497965699.6621 - mean_squared_error: 497965699.6621\n",
            "Epoch 97/100\n",
            "366/366 [==============================] - 1s 1ms/step - loss: 484036078.4475 - mean_squared_error: 484036078.4475\n",
            "Epoch 98/100\n",
            "366/366 [==============================] - 1s 1ms/step - loss: 558416602.2909 - mean_squared_error: 558416602.2909\n",
            "Epoch 99/100\n",
            "366/366 [==============================] - 1s 1ms/step - loss: 1082769062.5640 - mean_squared_error: 1082769062.5640\n",
            "Epoch 100/100\n",
            "366/366 [==============================] - 1s 1ms/step - loss: 1088376971.5095 - mean_squared_error: 1088376971.5095\n",
            "Model: \"sequential_3\"\n",
            "_________________________________________________________________\n",
            "Layer (type)                 Output Shape              Param #   \n",
            "=================================================================\n",
            "dense_9 (Dense)              (None, 6)                 54        \n",
            "_________________________________________________________________\n",
            "dense_10 (Dense)             (None, 6)                 42        \n",
            "_________________________________________________________________\n",
            "dense_11 (Dense)             (None, 1)                 7         \n",
            "=================================================================\n",
            "Total params: 103\n",
            "Trainable params: 103\n",
            "Non-trainable params: 0\n",
            "_________________________________________________________________\n",
            "Mean Absolute Error: 3171.0331232923954\n",
            "Mean Squared Error: 829285273.049342\n",
            "Root Mean Squared Error: 28797.313642931036\n"
          ],
          "name": "stdout"
        }
      ]
    },
    {
      "cell_type": "markdown",
      "metadata": {
        "id": "FGh4j54N6Pqp"
      },
      "source": [
        "Saving model and making Predictions"
      ]
    },
    {
      "cell_type": "code",
      "metadata": {
        "id": "pslkszMQPiPL"
      },
      "source": [
        "#Saving Scikitlearn models\n",
        "import joblib\n",
        "joblib.dump(decision_tree, \"decision_treeadview.pkl\")\n",
        "# Saving Keras Artificial Neural Network model\n",
        "ann.save(\"ann_youtubeadview.h5\")"
      ],
      "execution_count": null,
      "outputs": []
    },
    {
      "cell_type": "markdown",
      "metadata": {
        "id": "pp55Ubiof9rE"
      },
      "source": [
        "Testing Data and making Predictions"
      ]
    },
    {
      "cell_type": "code",
      "metadata": {
        "id": "kFZwvMLrPrxn"
      },
      "source": [
        "#reading the test dataset\n",
        "test=pd.read_csv(\"/content/drive/MyDrive/Machine learning Internship Dataset/test.csv\")"
      ],
      "execution_count": null,
      "outputs": []
    },
    {
      "cell_type": "code",
      "metadata": {
        "colab": {
          "base_uri": "https://localhost:8080/",
          "height": 200
        },
        "id": "46--jjjiPvgV",
        "outputId": "ba9fdb1b-23f9-4b11-9775-8e231c9e2ef0"
      },
      "source": [
        "#printing first five entries of the test dataset\n",
        "test.head()"
      ],
      "execution_count": null,
      "outputs": [
        {
          "output_type": "execute_result",
          "data": {
            "text/html": [
              "<div>\n",
              "<style scoped>\n",
              "    .dataframe tbody tr th:only-of-type {\n",
              "        vertical-align: middle;\n",
              "    }\n",
              "\n",
              "    .dataframe tbody tr th {\n",
              "        vertical-align: top;\n",
              "    }\n",
              "\n",
              "    .dataframe thead th {\n",
              "        text-align: right;\n",
              "    }\n",
              "</style>\n",
              "<table border=\"1\" class=\"dataframe\">\n",
              "  <thead>\n",
              "    <tr style=\"text-align: right;\">\n",
              "      <th></th>\n",
              "      <th>vidid</th>\n",
              "      <th>views</th>\n",
              "      <th>likes</th>\n",
              "      <th>dislikes</th>\n",
              "      <th>comment</th>\n",
              "      <th>published</th>\n",
              "      <th>duration</th>\n",
              "      <th>category</th>\n",
              "    </tr>\n",
              "  </thead>\n",
              "  <tbody>\n",
              "    <tr>\n",
              "      <th>0</th>\n",
              "      <td>VID_1054</td>\n",
              "      <td>440238</td>\n",
              "      <td>6153</td>\n",
              "      <td>218</td>\n",
              "      <td>1377</td>\n",
              "      <td>2017-02-18</td>\n",
              "      <td>PT7M29S</td>\n",
              "      <td>B</td>\n",
              "    </tr>\n",
              "    <tr>\n",
              "      <th>1</th>\n",
              "      <td>VID_18629</td>\n",
              "      <td>1040132</td>\n",
              "      <td>8171</td>\n",
              "      <td>340</td>\n",
              "      <td>1047</td>\n",
              "      <td>2016-06-28</td>\n",
              "      <td>PT6M29S</td>\n",
              "      <td>F</td>\n",
              "    </tr>\n",
              "    <tr>\n",
              "      <th>2</th>\n",
              "      <td>VID_13967</td>\n",
              "      <td>28534</td>\n",
              "      <td>31</td>\n",
              "      <td>11</td>\n",
              "      <td>1</td>\n",
              "      <td>2014-03-10</td>\n",
              "      <td>PT37M54S</td>\n",
              "      <td>D</td>\n",
              "    </tr>\n",
              "    <tr>\n",
              "      <th>3</th>\n",
              "      <td>VID_19442</td>\n",
              "      <td>1316715</td>\n",
              "      <td>2284</td>\n",
              "      <td>250</td>\n",
              "      <td>274</td>\n",
              "      <td>2010-06-05</td>\n",
              "      <td>PT9M55S</td>\n",
              "      <td>G</td>\n",
              "    </tr>\n",
              "    <tr>\n",
              "      <th>4</th>\n",
              "      <td>VID_770</td>\n",
              "      <td>1893173</td>\n",
              "      <td>2519</td>\n",
              "      <td>225</td>\n",
              "      <td>116</td>\n",
              "      <td>2016-09-03</td>\n",
              "      <td>PT3M8S</td>\n",
              "      <td>B</td>\n",
              "    </tr>\n",
              "  </tbody>\n",
              "</table>\n",
              "</div>"
            ],
            "text/plain": [
              "       vidid    views likes dislikes comment   published  duration category\n",
              "0   VID_1054   440238  6153      218    1377  2017-02-18   PT7M29S        B\n",
              "1  VID_18629  1040132  8171      340    1047  2016-06-28   PT6M29S        F\n",
              "2  VID_13967    28534    31       11       1  2014-03-10  PT37M54S        D\n",
              "3  VID_19442  1316715  2284      250     274  2010-06-05   PT9M55S        G\n",
              "4    VID_770  1893173  2519      225     116  2016-09-03    PT3M8S        B"
            ]
          },
          "metadata": {
            "tags": []
          },
          "execution_count": 180
        }
      ]
    },
    {
      "cell_type": "code",
      "metadata": {
        "colab": {
          "base_uri": "https://localhost:8080/"
        },
        "id": "XGNa7_a-PzSL",
        "outputId": "231bbb84-ffb8-4a86-925d-0c30e8b4bfa5"
      },
      "source": [
        "#printing row and column count of the test dataset\n",
        "test.shape"
      ],
      "execution_count": null,
      "outputs": [
        {
          "output_type": "execute_result",
          "data": {
            "text/plain": [
              "(8764, 8)"
            ]
          },
          "metadata": {
            "tags": []
          },
          "execution_count": 181
        }
      ]
    },
    {
      "cell_type": "code",
      "metadata": {
        "colab": {
          "base_uri": "https://localhost:8080/",
          "height": 200
        },
        "id": "GCO5H-O7P3Li",
        "outputId": "6f3d1f52-1644-4839-f42b-f9ca29492364"
      },
      "source": [
        "# Removing character \"F\" present in data\n",
        "#this is done to remove the missing characters in the dataset\n",
        "test=test[test.views!='F']\n",
        "test=test[test.likes!='F']\n",
        "test=test[test.dislikes!='F']\n",
        "test=test[test.comment!='F']\n",
        "test.head()\n",
        "# Assigning each category a number for Category feature i.e A to 1,B to 2 and so on...\n",
        "category={'A': 1,'B':2,'C':3,'D':4,'E':5,'F':6,'G':7,'H':8}\n",
        "test[\"category\"]=test[\"category\"].map(category)\n",
        "test.head()"
      ],
      "execution_count": null,
      "outputs": [
        {
          "output_type": "execute_result",
          "data": {
            "text/html": [
              "<div>\n",
              "<style scoped>\n",
              "    .dataframe tbody tr th:only-of-type {\n",
              "        vertical-align: middle;\n",
              "    }\n",
              "\n",
              "    .dataframe tbody tr th {\n",
              "        vertical-align: top;\n",
              "    }\n",
              "\n",
              "    .dataframe thead th {\n",
              "        text-align: right;\n",
              "    }\n",
              "</style>\n",
              "<table border=\"1\" class=\"dataframe\">\n",
              "  <thead>\n",
              "    <tr style=\"text-align: right;\">\n",
              "      <th></th>\n",
              "      <th>vidid</th>\n",
              "      <th>views</th>\n",
              "      <th>likes</th>\n",
              "      <th>dislikes</th>\n",
              "      <th>comment</th>\n",
              "      <th>published</th>\n",
              "      <th>duration</th>\n",
              "      <th>category</th>\n",
              "    </tr>\n",
              "  </thead>\n",
              "  <tbody>\n",
              "    <tr>\n",
              "      <th>0</th>\n",
              "      <td>VID_1054</td>\n",
              "      <td>440238</td>\n",
              "      <td>6153</td>\n",
              "      <td>218</td>\n",
              "      <td>1377</td>\n",
              "      <td>2017-02-18</td>\n",
              "      <td>PT7M29S</td>\n",
              "      <td>2</td>\n",
              "    </tr>\n",
              "    <tr>\n",
              "      <th>1</th>\n",
              "      <td>VID_18629</td>\n",
              "      <td>1040132</td>\n",
              "      <td>8171</td>\n",
              "      <td>340</td>\n",
              "      <td>1047</td>\n",
              "      <td>2016-06-28</td>\n",
              "      <td>PT6M29S</td>\n",
              "      <td>6</td>\n",
              "    </tr>\n",
              "    <tr>\n",
              "      <th>2</th>\n",
              "      <td>VID_13967</td>\n",
              "      <td>28534</td>\n",
              "      <td>31</td>\n",
              "      <td>11</td>\n",
              "      <td>1</td>\n",
              "      <td>2014-03-10</td>\n",
              "      <td>PT37M54S</td>\n",
              "      <td>4</td>\n",
              "    </tr>\n",
              "    <tr>\n",
              "      <th>3</th>\n",
              "      <td>VID_19442</td>\n",
              "      <td>1316715</td>\n",
              "      <td>2284</td>\n",
              "      <td>250</td>\n",
              "      <td>274</td>\n",
              "      <td>2010-06-05</td>\n",
              "      <td>PT9M55S</td>\n",
              "      <td>7</td>\n",
              "    </tr>\n",
              "    <tr>\n",
              "      <th>4</th>\n",
              "      <td>VID_770</td>\n",
              "      <td>1893173</td>\n",
              "      <td>2519</td>\n",
              "      <td>225</td>\n",
              "      <td>116</td>\n",
              "      <td>2016-09-03</td>\n",
              "      <td>PT3M8S</td>\n",
              "      <td>2</td>\n",
              "    </tr>\n",
              "  </tbody>\n",
              "</table>\n",
              "</div>"
            ],
            "text/plain": [
              "       vidid    views likes dislikes comment   published  duration  category\n",
              "0   VID_1054   440238  6153      218    1377  2017-02-18   PT7M29S         2\n",
              "1  VID_18629  1040132  8171      340    1047  2016-06-28   PT6M29S         6\n",
              "2  VID_13967    28534    31       11       1  2014-03-10  PT37M54S         4\n",
              "3  VID_19442  1316715  2284      250     274  2010-06-05   PT9M55S         7\n",
              "4    VID_770  1893173  2519      225     116  2016-09-03    PT3M8S         2"
            ]
          },
          "metadata": {
            "tags": []
          },
          "execution_count": 182
        }
      ]
    },
    {
      "cell_type": "code",
      "metadata": {
        "colab": {
          "base_uri": "https://localhost:8080/",
          "height": 200
        },
        "id": "SiTH_1WDQB-Y",
        "outputId": "94aec542-4a07-4cb1-b64c-ad046a6c1891"
      },
      "source": [
        "#Convert values to integers for views, likes, comments, dislikes and adview\n",
        "test[\"views\"] = pd.to_numeric(test[\"views\"])\n",
        "test[\"comment\"] = pd.to_numeric(test[\"comment\"])\n",
        "test[\"likes\"] = pd.to_numeric(test[\"likes\"])\n",
        "test[\"dislikes\"] = pd.to_numeric(test[\"dislikes\"])\n",
        "#test[\"adview\"]=pd.to_numeric(test[\"adview\"])\n",
        "column_vidid=test['vidid']\n",
        "# Endoding features like Category, Duration, Vidid\n",
        "from sklearn.preprocessing import LabelEncoder\n",
        "test['duration']=LabelEncoder().fit_transform(test['duration'])\n",
        "test['vidid']=LabelEncoder().fit_transform(test['vidid'])\n",
        "test['published']=LabelEncoder().fit_transform(test['published'])\n",
        "test.head()"
      ],
      "execution_count": null,
      "outputs": [
        {
          "output_type": "execute_result",
          "data": {
            "text/html": [
              "<div>\n",
              "<style scoped>\n",
              "    .dataframe tbody tr th:only-of-type {\n",
              "        vertical-align: middle;\n",
              "    }\n",
              "\n",
              "    .dataframe tbody tr th {\n",
              "        vertical-align: top;\n",
              "    }\n",
              "\n",
              "    .dataframe thead th {\n",
              "        text-align: right;\n",
              "    }\n",
              "</style>\n",
              "<table border=\"1\" class=\"dataframe\">\n",
              "  <thead>\n",
              "    <tr style=\"text-align: right;\">\n",
              "      <th></th>\n",
              "      <th>vidid</th>\n",
              "      <th>views</th>\n",
              "      <th>likes</th>\n",
              "      <th>dislikes</th>\n",
              "      <th>comment</th>\n",
              "      <th>published</th>\n",
              "      <th>duration</th>\n",
              "      <th>category</th>\n",
              "    </tr>\n",
              "  </thead>\n",
              "  <tbody>\n",
              "    <tr>\n",
              "      <th>0</th>\n",
              "      <td>231</td>\n",
              "      <td>440238</td>\n",
              "      <td>6153</td>\n",
              "      <td>218</td>\n",
              "      <td>1377</td>\n",
              "      <td>2053</td>\n",
              "      <td>2115</td>\n",
              "      <td>2</td>\n",
              "    </tr>\n",
              "    <tr>\n",
              "      <th>1</th>\n",
              "      <td>3444</td>\n",
              "      <td>1040132</td>\n",
              "      <td>8171</td>\n",
              "      <td>340</td>\n",
              "      <td>1047</td>\n",
              "      <td>1825</td>\n",
              "      <td>2055</td>\n",
              "      <td>6</td>\n",
              "    </tr>\n",
              "    <tr>\n",
              "      <th>2</th>\n",
              "      <td>1593</td>\n",
              "      <td>28534</td>\n",
              "      <td>31</td>\n",
              "      <td>11</td>\n",
              "      <td>1</td>\n",
              "      <td>1009</td>\n",
              "      <td>1506</td>\n",
              "      <td>4</td>\n",
              "    </tr>\n",
              "    <tr>\n",
              "      <th>3</th>\n",
              "      <td>3775</td>\n",
              "      <td>1316715</td>\n",
              "      <td>2284</td>\n",
              "      <td>250</td>\n",
              "      <td>274</td>\n",
              "      <td>116</td>\n",
              "      <td>2265</td>\n",
              "      <td>7</td>\n",
              "    </tr>\n",
              "    <tr>\n",
              "      <th>4</th>\n",
              "      <td>7644</td>\n",
              "      <td>1893173</td>\n",
              "      <td>2519</td>\n",
              "      <td>225</td>\n",
              "      <td>116</td>\n",
              "      <td>1892</td>\n",
              "      <td>1625</td>\n",
              "      <td>2</td>\n",
              "    </tr>\n",
              "  </tbody>\n",
              "</table>\n",
              "</div>"
            ],
            "text/plain": [
              "   vidid    views  likes  dislikes  comment  published  duration  category\n",
              "0    231   440238   6153       218     1377       2053      2115         2\n",
              "1   3444  1040132   8171       340     1047       1825      2055         6\n",
              "2   1593    28534     31        11        1       1009      1506         4\n",
              "3   3775  1316715   2284       250      274        116      2265         7\n",
              "4   7644  1893173   2519       225      116       1892      1625         2"
            ]
          },
          "metadata": {
            "tags": []
          },
          "execution_count": 183
        }
      ]
    },
    {
      "cell_type": "code",
      "metadata": {
        "colab": {
          "base_uri": "https://localhost:8080/",
          "height": 200
        },
        "id": "VHlI5_WQQJEh",
        "outputId": "e9e4394b-0982-4e18-bf5e-580887b70ae0"
      },
      "source": [
        "# Convert Time_in_sec for duration\n",
        "import datetime\n",
        "import time\n",
        "def checki(x):\n",
        "   y = x[2:]\n",
        "   h = ''\n",
        "   m = ''\n",
        "   s = ''\n",
        "   mm = ''\n",
        "   P = ['H','M','S']\n",
        "   for i in y:\n",
        "     if i not in P:\n",
        "       mm+=i\n",
        "     else:\n",
        "       if(i==\"H\"):\n",
        "         h = mm\n",
        "         mm = ''\n",
        "       elif(i == \"M\"):\n",
        "         m = mm\n",
        "         mm = ''\n",
        "       else:\n",
        "         s = mm\n",
        "         mm = ''\n",
        "   if(h==''):\n",
        "     h = '00'\n",
        "   if(m == ''):\n",
        "     m = '00'\n",
        "   if(s==''):\n",
        "     s='00'\n",
        "   bp = h+':'+m+':'+s\n",
        "   return bp\n",
        "train=pd.read_csv(\"/content/drive/MyDrive/Machine learning Internship Dataset/test.csv\")\n",
        "mp = pd.read_csv( \"/content/drive/MyDrive/Machine learning Internship Dataset/test.csv\")[\"duration\"]\n",
        "time = mp.apply(checki)\n",
        "def func_sec(time_string):\n",
        "   h, m, s = time_string.split(':')\n",
        "   return int(h) * 3600 + int(m) * 60 + int(s)\n",
        "time1=time.apply(func_sec)\n",
        "test[\"duration\"]=time1\n",
        "test.head()\n"
      ],
      "execution_count": null,
      "outputs": [
        {
          "output_type": "execute_result",
          "data": {
            "text/html": [
              "<div>\n",
              "<style scoped>\n",
              "    .dataframe tbody tr th:only-of-type {\n",
              "        vertical-align: middle;\n",
              "    }\n",
              "\n",
              "    .dataframe tbody tr th {\n",
              "        vertical-align: top;\n",
              "    }\n",
              "\n",
              "    .dataframe thead th {\n",
              "        text-align: right;\n",
              "    }\n",
              "</style>\n",
              "<table border=\"1\" class=\"dataframe\">\n",
              "  <thead>\n",
              "    <tr style=\"text-align: right;\">\n",
              "      <th></th>\n",
              "      <th>vidid</th>\n",
              "      <th>views</th>\n",
              "      <th>likes</th>\n",
              "      <th>dislikes</th>\n",
              "      <th>comment</th>\n",
              "      <th>published</th>\n",
              "      <th>duration</th>\n",
              "      <th>category</th>\n",
              "    </tr>\n",
              "  </thead>\n",
              "  <tbody>\n",
              "    <tr>\n",
              "      <th>0</th>\n",
              "      <td>231</td>\n",
              "      <td>440238</td>\n",
              "      <td>6153</td>\n",
              "      <td>218</td>\n",
              "      <td>1377</td>\n",
              "      <td>2053</td>\n",
              "      <td>449</td>\n",
              "      <td>2</td>\n",
              "    </tr>\n",
              "    <tr>\n",
              "      <th>1</th>\n",
              "      <td>3444</td>\n",
              "      <td>1040132</td>\n",
              "      <td>8171</td>\n",
              "      <td>340</td>\n",
              "      <td>1047</td>\n",
              "      <td>1825</td>\n",
              "      <td>389</td>\n",
              "      <td>6</td>\n",
              "    </tr>\n",
              "    <tr>\n",
              "      <th>2</th>\n",
              "      <td>1593</td>\n",
              "      <td>28534</td>\n",
              "      <td>31</td>\n",
              "      <td>11</td>\n",
              "      <td>1</td>\n",
              "      <td>1009</td>\n",
              "      <td>2274</td>\n",
              "      <td>4</td>\n",
              "    </tr>\n",
              "    <tr>\n",
              "      <th>3</th>\n",
              "      <td>3775</td>\n",
              "      <td>1316715</td>\n",
              "      <td>2284</td>\n",
              "      <td>250</td>\n",
              "      <td>274</td>\n",
              "      <td>116</td>\n",
              "      <td>595</td>\n",
              "      <td>7</td>\n",
              "    </tr>\n",
              "    <tr>\n",
              "      <th>4</th>\n",
              "      <td>7644</td>\n",
              "      <td>1893173</td>\n",
              "      <td>2519</td>\n",
              "      <td>225</td>\n",
              "      <td>116</td>\n",
              "      <td>1892</td>\n",
              "      <td>188</td>\n",
              "      <td>2</td>\n",
              "    </tr>\n",
              "  </tbody>\n",
              "</table>\n",
              "</div>"
            ],
            "text/plain": [
              "   vidid    views  likes  dislikes  comment  published  duration  category\n",
              "0    231   440238   6153       218     1377       2053       449         2\n",
              "1   3444  1040132   8171       340     1047       1825       389         6\n",
              "2   1593    28534     31        11        1       1009      2274         4\n",
              "3   3775  1316715   2284       250      274        116       595         7\n",
              "4   7644  1893173   2519       225      116       1892       188         2"
            ]
          },
          "metadata": {
            "tags": []
          },
          "execution_count": 184
        }
      ]
    },
    {
      "cell_type": "code",
      "metadata": {
        "colab": {
          "base_uri": "https://localhost:8080/",
          "height": 200
        },
        "id": "3UAMolvDQU9D",
        "outputId": "3d1890e5-eb1c-43b5-fa8d-9f52e24a2cb2"
      },
      "source": [
        "# Split Data and drop specific columns \n",
        "Ytrain = pd.DataFrame(data = test.iloc[:, 1].values, columns = ['target'])\n",
        "#test=test.drop([\"adview\"],axis=1)\n",
        "test.head()"
      ],
      "execution_count": null,
      "outputs": [
        {
          "output_type": "execute_result",
          "data": {
            "text/html": [
              "<div>\n",
              "<style scoped>\n",
              "    .dataframe tbody tr th:only-of-type {\n",
              "        vertical-align: middle;\n",
              "    }\n",
              "\n",
              "    .dataframe tbody tr th {\n",
              "        vertical-align: top;\n",
              "    }\n",
              "\n",
              "    .dataframe thead th {\n",
              "        text-align: right;\n",
              "    }\n",
              "</style>\n",
              "<table border=\"1\" class=\"dataframe\">\n",
              "  <thead>\n",
              "    <tr style=\"text-align: right;\">\n",
              "      <th></th>\n",
              "      <th>vidid</th>\n",
              "      <th>views</th>\n",
              "      <th>likes</th>\n",
              "      <th>dislikes</th>\n",
              "      <th>comment</th>\n",
              "      <th>published</th>\n",
              "      <th>duration</th>\n",
              "      <th>category</th>\n",
              "    </tr>\n",
              "  </thead>\n",
              "  <tbody>\n",
              "    <tr>\n",
              "      <th>0</th>\n",
              "      <td>231</td>\n",
              "      <td>440238</td>\n",
              "      <td>6153</td>\n",
              "      <td>218</td>\n",
              "      <td>1377</td>\n",
              "      <td>2053</td>\n",
              "      <td>449</td>\n",
              "      <td>2</td>\n",
              "    </tr>\n",
              "    <tr>\n",
              "      <th>1</th>\n",
              "      <td>3444</td>\n",
              "      <td>1040132</td>\n",
              "      <td>8171</td>\n",
              "      <td>340</td>\n",
              "      <td>1047</td>\n",
              "      <td>1825</td>\n",
              "      <td>389</td>\n",
              "      <td>6</td>\n",
              "    </tr>\n",
              "    <tr>\n",
              "      <th>2</th>\n",
              "      <td>1593</td>\n",
              "      <td>28534</td>\n",
              "      <td>31</td>\n",
              "      <td>11</td>\n",
              "      <td>1</td>\n",
              "      <td>1009</td>\n",
              "      <td>2274</td>\n",
              "      <td>4</td>\n",
              "    </tr>\n",
              "    <tr>\n",
              "      <th>3</th>\n",
              "      <td>3775</td>\n",
              "      <td>1316715</td>\n",
              "      <td>2284</td>\n",
              "      <td>250</td>\n",
              "      <td>274</td>\n",
              "      <td>116</td>\n",
              "      <td>595</td>\n",
              "      <td>7</td>\n",
              "    </tr>\n",
              "    <tr>\n",
              "      <th>4</th>\n",
              "      <td>7644</td>\n",
              "      <td>1893173</td>\n",
              "      <td>2519</td>\n",
              "      <td>225</td>\n",
              "      <td>116</td>\n",
              "      <td>1892</td>\n",
              "      <td>188</td>\n",
              "      <td>2</td>\n",
              "    </tr>\n",
              "  </tbody>\n",
              "</table>\n",
              "</div>"
            ],
            "text/plain": [
              "   vidid    views  likes  dislikes  comment  published  duration  category\n",
              "0    231   440238   6153       218     1377       2053       449         2\n",
              "1   3444  1040132   8171       340     1047       1825       389         6\n",
              "2   1593    28534     31        11        1       1009      2274         4\n",
              "3   3775  1316715   2284       250      274        116       595         7\n",
              "4   7644  1893173   2519       225      116       1892       188         2"
            ]
          },
          "metadata": {
            "tags": []
          },
          "execution_count": 185
        }
      ]
    },
    {
      "cell_type": "code",
      "metadata": {
        "colab": {
          "base_uri": "https://localhost:8080/",
          "height": 408
        },
        "id": "9gBs1xmYQelS",
        "outputId": "139881c9-3556-4c77-a0b3-6e916db4da50"
      },
      "source": [
        "#splitting the dataset into train and test \n",
        "from sklearn.model_selection import train_test_split\n",
        "Xtrain, Xtest, Ytrain, ytest = train_test_split(test, Ytrain, test_size=0.2, random_state=42)\n",
        "Xtrain"
      ],
      "execution_count": null,
      "outputs": [
        {
          "output_type": "execute_result",
          "data": {
            "text/html": [
              "<div>\n",
              "<style scoped>\n",
              "    .dataframe tbody tr th:only-of-type {\n",
              "        vertical-align: middle;\n",
              "    }\n",
              "\n",
              "    .dataframe tbody tr th {\n",
              "        vertical-align: top;\n",
              "    }\n",
              "\n",
              "    .dataframe thead th {\n",
              "        text-align: right;\n",
              "    }\n",
              "</style>\n",
              "<table border=\"1\" class=\"dataframe\">\n",
              "  <thead>\n",
              "    <tr style=\"text-align: right;\">\n",
              "      <th></th>\n",
              "      <th>vidid</th>\n",
              "      <th>views</th>\n",
              "      <th>likes</th>\n",
              "      <th>dislikes</th>\n",
              "      <th>comment</th>\n",
              "      <th>published</th>\n",
              "      <th>duration</th>\n",
              "      <th>category</th>\n",
              "    </tr>\n",
              "  </thead>\n",
              "  <tbody>\n",
              "    <tr>\n",
              "      <th>764</th>\n",
              "      <td>783</td>\n",
              "      <td>1511094</td>\n",
              "      <td>14656</td>\n",
              "      <td>1704</td>\n",
              "      <td>765</td>\n",
              "      <td>1902</td>\n",
              "      <td>337</td>\n",
              "      <td>4</td>\n",
              "    </tr>\n",
              "    <tr>\n",
              "      <th>3615</th>\n",
              "      <td>1999</td>\n",
              "      <td>810581</td>\n",
              "      <td>6010</td>\n",
              "      <td>117</td>\n",
              "      <td>240</td>\n",
              "      <td>1474</td>\n",
              "      <td>30</td>\n",
              "      <td>4</td>\n",
              "    </tr>\n",
              "    <tr>\n",
              "      <th>2257</th>\n",
              "      <td>6150</td>\n",
              "      <td>1066727</td>\n",
              "      <td>1328</td>\n",
              "      <td>258</td>\n",
              "      <td>77</td>\n",
              "      <td>1975</td>\n",
              "      <td>620</td>\n",
              "      <td>4</td>\n",
              "    </tr>\n",
              "    <tr>\n",
              "      <th>8028</th>\n",
              "      <td>4949</td>\n",
              "      <td>763316</td>\n",
              "      <td>4317</td>\n",
              "      <td>189</td>\n",
              "      <td>359</td>\n",
              "      <td>1444</td>\n",
              "      <td>244</td>\n",
              "      <td>7</td>\n",
              "    </tr>\n",
              "    <tr>\n",
              "      <th>3462</th>\n",
              "      <td>1018</td>\n",
              "      <td>178706</td>\n",
              "      <td>409</td>\n",
              "      <td>21</td>\n",
              "      <td>89</td>\n",
              "      <td>531</td>\n",
              "      <td>318</td>\n",
              "      <td>4</td>\n",
              "    </tr>\n",
              "    <tr>\n",
              "      <th>...</th>\n",
              "      <td>...</td>\n",
              "      <td>...</td>\n",
              "      <td>...</td>\n",
              "      <td>...</td>\n",
              "      <td>...</td>\n",
              "      <td>...</td>\n",
              "      <td>...</td>\n",
              "      <td>...</td>\n",
              "    </tr>\n",
              "    <tr>\n",
              "      <th>5881</th>\n",
              "      <td>7122</td>\n",
              "      <td>985837</td>\n",
              "      <td>2212</td>\n",
              "      <td>218</td>\n",
              "      <td>74</td>\n",
              "      <td>1014</td>\n",
              "      <td>647</td>\n",
              "      <td>4</td>\n",
              "    </tr>\n",
              "    <tr>\n",
              "      <th>5322</th>\n",
              "      <td>4946</td>\n",
              "      <td>83362</td>\n",
              "      <td>629</td>\n",
              "      <td>6</td>\n",
              "      <td>29</td>\n",
              "      <td>1641</td>\n",
              "      <td>300</td>\n",
              "      <td>7</td>\n",
              "    </tr>\n",
              "    <tr>\n",
              "      <th>5529</th>\n",
              "      <td>6859</td>\n",
              "      <td>345295</td>\n",
              "      <td>1785</td>\n",
              "      <td>82</td>\n",
              "      <td>182</td>\n",
              "      <td>1410</td>\n",
              "      <td>199</td>\n",
              "      <td>4</td>\n",
              "    </tr>\n",
              "    <tr>\n",
              "      <th>875</th>\n",
              "      <td>8223</td>\n",
              "      <td>197700</td>\n",
              "      <td>2771</td>\n",
              "      <td>156</td>\n",
              "      <td>110</td>\n",
              "      <td>2067</td>\n",
              "      <td>136</td>\n",
              "      <td>4</td>\n",
              "    </tr>\n",
              "    <tr>\n",
              "      <th>7452</th>\n",
              "      <td>5552</td>\n",
              "      <td>2234895</td>\n",
              "      <td>4065</td>\n",
              "      <td>811</td>\n",
              "      <td>207</td>\n",
              "      <td>1334</td>\n",
              "      <td>143</td>\n",
              "      <td>3</td>\n",
              "    </tr>\n",
              "  </tbody>\n",
              "</table>\n",
              "<p>6839 rows × 8 columns</p>\n",
              "</div>"
            ],
            "text/plain": [
              "      vidid    views  likes  dislikes  comment  published  duration  category\n",
              "764     783  1511094  14656      1704      765       1902       337         4\n",
              "3615   1999   810581   6010       117      240       1474        30         4\n",
              "2257   6150  1066727   1328       258       77       1975       620         4\n",
              "8028   4949   763316   4317       189      359       1444       244         7\n",
              "3462   1018   178706    409        21       89        531       318         4\n",
              "...     ...      ...    ...       ...      ...        ...       ...       ...\n",
              "5881   7122   985837   2212       218       74       1014       647         4\n",
              "5322   4946    83362    629         6       29       1641       300         7\n",
              "5529   6859   345295   1785        82      182       1410       199         4\n",
              "875    8223   197700   2771       156      110       2067       136         4\n",
              "7452   5552  2234895   4065       811      207       1334       143         3\n",
              "\n",
              "[6839 rows x 8 columns]"
            ]
          },
          "metadata": {
            "tags": []
          },
          "execution_count": 186
        }
      ]
    },
    {
      "cell_type": "code",
      "metadata": {
        "colab": {
          "base_uri": "https://localhost:8080/"
        },
        "id": "J__nn0UFQkoQ",
        "outputId": "b38fa427-af9d-4fc5-efb8-c8c8caef186a"
      },
      "source": [
        "# Normalise Data\n",
        "from sklearn.preprocessing import MinMaxScaler\n",
        "scaler = MinMaxScaler()\n",
        "#The MinMaxScaler transforms the features by scaling them to a given range\n",
        "Xtrain=scaler.fit_transform(Xtrain)\n",
        "Xtest=scaler.fit_transform(Xtest)\n",
        "Xtrain.mean()"
      ],
      "execution_count": null,
      "outputs": [
        {
          "output_type": "execute_result",
          "data": {
            "text/plain": [
              "0.21052439011735335"
            ]
          },
          "metadata": {
            "tags": []
          },
          "execution_count": 187
        }
      ]
    },
    {
      "cell_type": "code",
      "metadata": {
        "id": "YTkBAiYQRHw0"
      },
      "source": [
        "from sklearn.externals import joblib \n",
        "  \n",
        "# Save the model as a pickle in a file \n",
        "joblib.dump(decision_tree, 'decision_treeadview.pkl') \n",
        "  \n",
        "# Load the model from the file \n",
        "decision_tree_from_joblib = joblib.load('decision_treeadview.pkl')  "
      ],
      "execution_count": null,
      "outputs": []
    },
    {
      "cell_type": "code",
      "metadata": {
        "colab": {
          "base_uri": "https://localhost:8080/"
        },
        "id": "-xrn4spSRQgv",
        "outputId": "d125fdc5-a41b-4f1d-b9de-6b39fecb21ca"
      },
      "source": [
        "#Here we hvae used Xtrain from the test.csv to make predictions\n",
        "res=decision_tree_from_joblib.predict(Xtrain)\n",
        "print(res) "
      ],
      "execution_count": null,
      "outputs": [
        {
          "output_type": "stream",
          "text": [
            "[2. 1. 1. ... 1. 3. 2.]\n"
          ],
          "name": "stdout"
        }
      ]
    },
    {
      "cell_type": "code",
      "metadata": {
        "id": "CGPonZhwRV12"
      },
      "source": [
        "from numpy import asarray\n",
        "from numpy import savetxt\n",
        "# define data\n",
        "data = res\n",
        "# save to csv file\n",
        "savetxt('predictedadview.csv', data, delimiter=',')"
      ],
      "execution_count": null,
      "outputs": []
    },
    {
      "cell_type": "code",
      "metadata": {
        "colab": {
          "base_uri": "https://localhost:8080/"
        },
        "id": "st8pmMBfRbTg",
        "outputId": "6bb0a8f4-1a08-48e8-f9c6-c5695e970a1a"
      },
      "source": [
        "#displaying the first 200 predicted values \n",
        "df=pd.read_csv(\"/content/predictedadview.csv\")\n",
        "print(df.head(200))"
      ],
      "execution_count": null,
      "outputs": [
        {
          "output_type": "stream",
          "text": [
            "     2.000000000000000000e+00\n",
            "0                         1.0\n",
            "1                         1.0\n",
            "2                        53.0\n",
            "3                         1.0\n",
            "4                        37.0\n",
            "..                        ...\n",
            "195                       1.0\n",
            "196                       1.0\n",
            "197                       1.0\n",
            "198                       1.0\n",
            "199                   35894.0\n",
            "\n",
            "[200 rows x 1 columns]\n"
          ],
          "name": "stdout"
        }
      ]
    },
    {
      "cell_type": "code",
      "metadata": {
        "id": "AqKmBe-7RlE8",
        "colab": {
          "base_uri": "https://localhost:8080/"
        },
        "outputId": "7e1ddaee-34c3-43d4-8292-9937a6967c46"
      },
      "source": [
        "#displaying predictions directly form test dataset\n",
        "result=decision_tree_from_joblib.predict(test)\n",
        "print(result) "
      ],
      "execution_count": null,
      "outputs": [
        {
          "output_type": "stream",
          "text": [
            "[58. 58. 58. ... 58. 58. 58.]\n"
          ],
          "name": "stdout"
        }
      ]
    }
  ]
}